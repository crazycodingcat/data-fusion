{
 "metadata": {
  "name": ""
 },
 "nbformat": 3,
 "nbformat_minor": 0,
 "worksheets": [
  {
   "cells": [
    {
     "cell_type": "code",
     "collapsed": false,
     "input": [
      "from decaf.scripts.imagenet import DecafNet"
     ],
     "language": "python",
     "metadata": {},
     "outputs": [],
     "prompt_number": 22
    },
    {
     "cell_type": "code",
     "collapsed": false,
     "input": [
      "f_dir = '/home/ce/workspace/tools/decaf-release/imagenet_pretrained/'\n",
      "%time net = DecafNet(f_dir + 'imagenet.decafnet.epoch90',f_dir + 'imagenet.decafnet.meta')"
     ],
     "language": "python",
     "metadata": {},
     "outputs": [
      {
       "output_type": "stream",
       "stream": "stdout",
       "text": [
        "CPU times: user 715 ms, sys: 227 ms, total: 942 ms\n",
        "Wall time: 943 ms\n"
       ]
      }
     ],
     "prompt_number": 23
    },
    {
     "cell_type": "code",
     "collapsed": false,
     "input": [
      "import os\n",
      "f_dir = \"/home/ce/workspace/data/public_data/im2text/subset2\"\n",
      "os.chdir(f_dir)\n",
      "f_names = os.listdir(f_dir)"
     ],
     "language": "python",
     "metadata": {},
     "outputs": [],
     "prompt_number": 24
    },
    {
     "cell_type": "code",
     "collapsed": false,
     "input": [
      "import matplotlib.pyplot as plt\n",
      "%matplotlib inline\n",
      "import numpy as np"
     ],
     "language": "python",
     "metadata": {},
     "outputs": [],
     "prompt_number": 25
    },
    {
     "cell_type": "code",
     "collapsed": false,
     "input": [
      "# return 4096 d feature of the image\n",
      "def feature_extractor(im_name):\n",
      "    result = plt.imread(im_name)\n",
      "    scores = net.classify(result.astype('uint8'),center_only=True)\n",
      "    feature = net.feature('fc7_cudanet_out')\n",
      "    return feature.flatten()"
     ],
     "language": "python",
     "metadata": {},
     "outputs": [],
     "prompt_number": 26
    },
    {
     "cell_type": "code",
     "collapsed": false,
     "input": [
      "### Extract image features\n",
      "%time train_ims = [feature_extractor(im_name) for im_name in f_names]\n",
      "train_ims = np.array(train_ims)"
     ],
     "language": "python",
     "metadata": {},
     "outputs": [
      {
       "output_type": "stream",
       "stream": "stdout",
       "text": [
        "CPU times: user 2h 34min 36s, sys: 16min 44s, total: 2h 51min 21s\n",
        "Wall time: 35min 39s\n"
       ]
      }
     ],
     "prompt_number": 31
    },
    {
     "cell_type": "code",
     "collapsed": false,
     "input": [
      "with open(\"/home/ce/workspace/X/text-image/mapping/index\",\"wb\") as f:\n",
      "    cPickle.dump(f_names,f)\n",
      "with open(\"/home/ce/workspace/X/text-image/mapping/features\",\"wb\") as f:\n",
      "    cPickle.dump(train_ims,f)"
     ],
     "language": "python",
     "metadata": {},
     "outputs": [],
     "prompt_number": 32
    },
    {
     "cell_type": "code",
     "collapsed": false,
     "input": [
      "train_ims.shape"
     ],
     "language": "python",
     "metadata": {},
     "outputs": [
      {
       "metadata": {},
       "output_type": "pyout",
       "prompt_number": 33,
       "text": [
        "(9234, 4096)"
       ]
      }
     ],
     "prompt_number": 33
    },
    {
     "cell_type": "code",
     "collapsed": false,
     "input": [],
     "language": "python",
     "metadata": {},
     "outputs": []
    }
   ],
   "metadata": {}
  }
 ]
}