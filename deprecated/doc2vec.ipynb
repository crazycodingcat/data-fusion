{
 "cells": [
  {
   "cell_type": "markdown",
   "metadata": {},
   "source": [
    "# Train Doc2Vec model"
   ]
  },
  {
   "cell_type": "code",
   "execution_count": 3,
   "metadata": {
    "collapsed": true
   },
   "outputs": [],
   "source": [
    "import os\n",
    "f_dir = \"/home/ce/workspace/data-fusion\"\n",
    "os.chdir(f_dir)"
   ]
  },
  {
   "cell_type": "code",
   "execution_count": 4,
   "metadata": {
    "collapsed": false
   },
   "outputs": [],
   "source": [
    "## create labeled sentences\n",
    "with open(\"data/im2text/dataset/SBU_captioned_photo_dataset_captions.txt\") as f:\n",
    "    sentences = f.readlines()"
   ]
  },
  {
   "cell_type": "code",
   "execution_count": 5,
   "metadata": {
    "collapsed": false
   },
   "outputs": [],
   "source": [
    "from gensim.parsing import strip_non_alphanum\n",
    "from gensim.parsing import strip_multiple_whitespaces"
   ]
  },
  {
   "cell_type": "code",
   "execution_count": 6,
   "metadata": {
    "collapsed": false
   },
   "outputs": [
    {
     "name": "stdout",
     "output_type": "stream",
     "text": [
      "CPU times: user 26 s, sys: 590 ms, total: 26.6 s\n",
      "Wall time: 26.4 s\n"
     ]
    }
   ],
   "source": [
    "%time sentences = [strip_multiple_whitespaces(strip_non_alphanum(sen.lower())) for sen in sentences]"
   ]
  },
  {
   "cell_type": "code",
   "execution_count": 7,
   "metadata": {
    "collapsed": false
   },
   "outputs": [],
   "source": [
    "with open(\"data/im2text/dataset/preprocessed_sentences.txt\",\"wb\") as f:\n",
    "    for sen in sentences:\n",
    "        f.write(\"%s\\n\" %sen)"
   ]
  },
  {
   "cell_type": "code",
   "execution_count": 8,
   "metadata": {
    "collapsed": false
   },
   "outputs": [],
   "source": [
    "from gensim.models.doc2vec import LabeledLineSentence\n",
    "sentences_labeled = LabeledLineSentence(\"data/im2text/dataset/preprocessed_sentences.txt\")"
   ]
  },
  {
   "cell_type": "code",
   "execution_count": 10,
   "metadata": {
    "collapsed": false
   },
   "outputs": [
    {
     "name": "stdout",
     "output_type": "stream",
     "text": [
      "CPU times: user 4min 47s, sys: 31.1 s, total: 5min 18s\n",
      "Wall time: 3min 43s\n"
     ]
    }
   ],
   "source": [
    "from gensim.models import Doc2Vec\n",
    "%time model = Doc2Vec(sentences_labeled,workers= 12,size=100, min_count=1)"
   ]
  },
  {
   "cell_type": "code",
   "execution_count": 11,
   "metadata": {
    "collapsed": false
   },
   "outputs": [],
   "source": [
    "model.save_word2vec_format(\"data/phrase_vectors.bin\",binary=True)"
   ]
  },
  {
   "cell_type": "raw",
   "metadata": {
    "collapsed": false
   },
   "source": [
    "i = 6\n",
    "print sentences[i]\n",
    "for l in model.most_similar(\"SENT_%i\"%i):\n",
    "    if l[0].startswith('SENT'):\n",
    "        print (sentences[int(l[0].split('_')[1])],l[1])\n",
    "    else:\n",
    "        print l"
   ]
  },
  {
   "cell_type": "raw",
   "metadata": {
    "collapsed": false
   },
   "source": [
    "for l in model.most_similar(\"cat\"):\n",
    "    if l[0].startswith('SENT'):\n",
    "        print (sentences[int(l[0].split('_')[1])],l[1])\n",
    "    else:\n",
    "        print l"
   ]
  }
 ],
 "metadata": {
  "kernelspec": {
   "display_name": "Python 2",
   "language": "python",
   "name": "python2"
  },
  "language_info": {
   "codemirror_mode": {
    "name": "ipython",
    "version": 2
   },
   "file_extension": ".py",
   "mimetype": "text/x-python",
   "name": "python",
   "nbconvert_exporter": "python",
   "pygments_lexer": "ipython2",
   "version": "2.7.6"
  }
 },
 "nbformat": 4,
 "nbformat_minor": 0
}
