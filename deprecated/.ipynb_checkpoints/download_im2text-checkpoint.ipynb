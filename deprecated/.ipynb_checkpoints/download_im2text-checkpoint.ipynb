{
 "cells": [
  {
   "cell_type": "code",
   "execution_count": 1,
   "metadata": {
    "collapsed": true
   },
   "outputs": [],
   "source": [
    "import os\n",
    "f_dir = \"/home/ce/workspace/data-fusion/\"\n",
    "os.chdir(f_dir)"
   ]
  },
  {
   "cell_type": "code",
   "execution_count": 2,
   "metadata": {
    "collapsed": true
   },
   "outputs": [],
   "source": [
    "with open('data/im2text/dataset/SBU_captioned_photo_dataset_urls.txt') as f:\n",
    "    urls = f.readlines()"
   ]
  },
  {
   "cell_type": "code",
   "execution_count": 3,
   "metadata": {
    "collapsed": false
   },
   "outputs": [],
   "source": [
    "import numpy as np\n",
    "import urllib"
   ]
  },
  {
   "cell_type": "code",
   "execution_count": 17,
   "metadata": {
    "collapsed": false
   },
   "outputs": [],
   "source": [
    "urls = np.array(urls)\n",
    "ind = np.random.choice(range(0,1000000),size = 10000)\n",
    "#ind =np.array(range(10000,1000000))"
   ]
  },
  {
   "cell_type": "code",
   "execution_count": 19,
   "metadata": {
    "collapsed": false
   },
   "outputs": [],
   "source": [
    "for i in ind:\n",
    "    try:\n",
    "        urllib.urlretrieve(urls[i], \"data/im2text/subset/image/\" + str(i))\n",
    "    except:\n",
    "        pass"
   ]
  },
  {
   "cell_type": "raw",
   "metadata": {
    "collapsed": false
   },
   "source": [
    "### remove images that are not found\n",
    "import imghdr\n",
    "import os"
   ]
  },
  {
   "cell_type": "raw",
   "metadata": {
    "collapsed": false
   },
   "source": [
    "os.chdir(f_dir+\"data/im2text/subset/image/\")\n",
    "f_names = os.listdir(f_dir+\"data/im2text/subset/image/\")\n",
    "for name in f_names:\n",
    "    if imghdr.what(name) == None:\n",
    "        os.remove(name)"
   ]
  },
  {
   "cell_type": "raw",
   "metadata": {
    "collapsed": false
   },
   "source": [
    "import matplotlib.pylab as pl"
   ]
  },
  {
   "cell_type": "raw",
   "metadata": {
    "collapsed": false
   },
   "source": [
    "f_names = os.listdir(f_dir)\n",
    "im_none = pl.imread('4495')\n",
    "for f in f_names:\n",
    "    im = pl.imread(f)\n",
    "    if im.shape == im_none.shape and (im == im_none).all():\n",
    "        os.remove(f)"
   ]
  },
  {
   "cell_type": "code",
   "execution_count": null,
   "metadata": {
    "collapsed": false
   },
   "outputs": [],
   "source": []
  }
 ],
 "metadata": {
  "kernelspec": {
   "display_name": "Python 2",
   "language": "python",
   "name": "python2"
  },
  "language_info": {
   "codemirror_mode": {
    "name": "ipython",
    "version": 2
   },
   "file_extension": ".py",
   "mimetype": "text/x-python",
   "name": "python",
   "nbconvert_exporter": "python",
   "pygments_lexer": "ipython2",
   "version": "2.7.6"
  }
 },
 "nbformat": 4,
 "nbformat_minor": 0
}
