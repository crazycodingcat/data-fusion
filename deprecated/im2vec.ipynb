{
 "cells": [
  {
   "cell_type": "code",
   "execution_count": 20,
   "metadata": {
    "collapsed": false
   },
   "outputs": [],
   "source": [
    "from decaf.scripts.imagenet import DecafNet"
   ]
  },
  {
   "cell_type": "code",
   "execution_count": 21,
   "metadata": {
    "collapsed": true
   },
   "outputs": [],
   "source": [
    "import os\n",
    "f_dir = \"/home/ce/workspace/data-fusion/\"\n",
    "os.chdir(f_dir)"
   ]
  },
  {
   "cell_type": "code",
   "execution_count": 22,
   "metadata": {
    "collapsed": false
   },
   "outputs": [
    {
     "name": "stdout",
     "output_type": "stream",
     "text": [
      "CPU times: user 596 ms, sys: 238 ms, total: 834 ms\n",
      "Wall time: 834 ms\n"
     ]
    }
   ],
   "source": [
    "wt_dir = 'data/decaf/imagenet_pretrained/'\n",
    "%time net = DecafNet(wt_dir + 'imagenet.decafnet.epoch90',wt_dir + 'imagenet.decafnet.meta')"
   ]
  },
  {
   "cell_type": "code",
   "execution_count": 32,
   "metadata": {
    "collapsed": false
   },
   "outputs": [],
   "source": [
    "import os\n",
    "im_dir = \"data/im2text/subset/image/\"\n",
    "f_names = os.listdir(f_dir + im_dir)"
   ]
  },
  {
   "cell_type": "code",
   "execution_count": 33,
   "metadata": {
    "collapsed": false
   },
   "outputs": [],
   "source": [
    "import matplotlib.pyplot as plt\n",
    "%matplotlib inline\n",
    "import numpy as np"
   ]
  },
  {
   "cell_type": "code",
   "execution_count": 34,
   "metadata": {
    "collapsed": false
   },
   "outputs": [],
   "source": [
    "# return 4096 d feature of the image\n",
    "def feature_extractor(im_name):\n",
    "    result = plt.imread(im_name)\n",
    "    scores = net.classify(result.astype('uint8'),center_only=True)\n",
    "    feature = net.feature('fc7_cudanet_out')\n",
    "    return feature.flatten()"
   ]
  },
  {
   "cell_type": "code",
   "execution_count": null,
   "metadata": {
    "collapsed": false
   },
   "outputs": [],
   "source": [
    "### Extract image features\n",
    "%time train_ims = [feature_extractor(im_dir + im_name) for im_name in f_names]\n",
    "train_ims = np.array(train_ims)"
   ]
  },
  {
   "cell_type": "code",
   "execution_count": null,
   "metadata": {
    "collapsed": false
   },
   "outputs": [],
   "source": [
    "with open(\"data/im2text_im_index\",\"wb\") as f:\n",
    "    cPickle.dump(f_names,f)\n",
    "with open(\"data/im2text/im2text_im_features\",\"wb\") as f:\n",
    "    cPickle.dump(train_ims,f)"
   ]
  },
  {
   "cell_type": "code",
   "execution_count": null,
   "metadata": {
    "collapsed": false
   },
   "outputs": [],
   "source": []
  }
 ],
 "metadata": {
  "kernelspec": {
   "display_name": "Python 2",
   "language": "python",
   "name": "python2"
  },
  "language_info": {
   "codemirror_mode": {
    "name": "ipython",
    "version": 2
   },
   "file_extension": ".py",
   "mimetype": "text/x-python",
   "name": "python",
   "nbconvert_exporter": "python",
   "pygments_lexer": "ipython2",
   "version": "2.7.6"
  }
 },
 "nbformat": 4,
 "nbformat_minor": 0
}
